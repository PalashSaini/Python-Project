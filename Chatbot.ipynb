{
 "cells": [
  {
   "cell_type": "code",
   "execution_count": 1,
   "id": "4b3c198d",
   "metadata": {},
   "outputs": [
    {
     "name": "stdout",
     "output_type": "stream",
     "text": [
      "quit\n"
     ]
    }
   ],
   "source": [
    "import time\n",
    "qna = {\n",
    "    \n",
    "    \"Hi\":\"Hey\",\n",
    "    \"How are you\": \"I am fine\",\n",
    "    \"What is your name\": \"My name is Alex\",\n",
    "    \"Who made you\": \"Palash has developed me\",\n",
    "    \"How old are you\": \"I am 2 years old\",\n",
    "    \"What is the time now\": time.ctime()\n",
    "      \n",
    "}\n",
    "\n",
    "### Infinite Loop\n",
    "while True:\n",
    "    Qs=input()\n",
    "    \n",
    "    if (Qs==\"quit\"):\n",
    "        break\n",
    "        \n",
    "    else:\n",
    "        print(qna[Qs])"
   ]
  },
  {
   "cell_type": "code",
   "execution_count": 4,
   "id": "327db91e",
   "metadata": {},
   "outputs": [
    {
     "name": "stdout",
     "output_type": "stream",
     "text": [
      "Enter your name :Palash\n",
      "Hello Palash\n",
      "Ask some question :p\n",
      "What you want to say I can't understand\n",
      "Ask some question :quit\n"
     ]
    }
   ],
   "source": [
    "name=input(\"Enter your name :\")\n",
    "print(\"Hello\",name)\n",
    "\n",
    "## Looping\n",
    "for i in range(10000):\n",
    "    chat =str(input(\"Ask some question :\"))\n",
    "    if chat==\"What is your name\":\n",
    "        print(\"My name is Alex\")\n",
    "    elif chat==\"Who made you\":\n",
    "        print(\"Team LnB has developed me\")\n",
    "    elif chat==\"What is your favorite food\":\n",
    "        print(\"Your data\")\n",
    "    elif chat==\"quit\":\n",
    "        break\n",
    "    else:\n",
    "        print(\"What you want to say I can't understand\")\n",
    "    "
   ]
  },
  {
   "cell_type": "code",
   "execution_count": 6,
   "id": "b8de9ac4",
   "metadata": {},
   "outputs": [
    {
     "name": "stdout",
     "output_type": "stream",
     "text": [
      "Enter your name :Palash\n",
      "Hello Palash\n",
      "Ask some question :What is the time now\n",
      "Thu Aug 25 19:07:27 2022\n",
      "Ask some question :quit\n"
     ]
    }
   ],
   "source": [
    "import time\n",
    "name=input(\"Enter your name :\")\n",
    "print(\"Hello\",name)\n",
    "\n",
    "## Looping\n",
    "for i in range(10000):\n",
    "    chat =str(input(\"Ask some question :\"))\n",
    "    if chat==\"What is your name\":\n",
    "        print(\"My name is Alex\")\n",
    "    elif chat==\"Who made you\":\n",
    "        print(\"Team LnB has developed me\")\n",
    "    elif chat==\"What is your favorite food\":\n",
    "        print(\"Your data\")\n",
    "    elif chat==\"What is the time now\":\n",
    "        print(time.ctime())\n",
    "    elif chat==\"quit\":\n",
    "        break\n",
    "    else:\n",
    "        print(\"What you want to say I can't understand\")\n",
    "    "
   ]
  },
  {
   "cell_type": "code",
   "execution_count": null,
   "id": "6b289088",
   "metadata": {},
   "outputs": [],
   "source": []
  }
 ],
 "metadata": {
  "kernelspec": {
   "display_name": "Python 3 (ipykernel)",
   "language": "python",
   "name": "python3"
  },
  "language_info": {
   "codemirror_mode": {
    "name": "ipython",
    "version": 3
   },
   "file_extension": ".py",
   "mimetype": "text/x-python",
   "name": "python",
   "nbconvert_exporter": "python",
   "pygments_lexer": "ipython3",
   "version": "3.9.12"
  }
 },
 "nbformat": 4,
 "nbformat_minor": 5
}
