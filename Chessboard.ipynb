{
 "cells": [
  {
   "cell_type": "code",
   "execution_count": 7,
   "id": "8bcecf9a",
   "metadata": {},
   "outputs": [],
   "source": [
    "## Chessboard Using Python\n",
    "import numpy as np\n",
    "import matplotlib.pyplot as mtplb"
   ]
  },
  {
   "cell_type": "code",
   "execution_count": 21,
   "id": "7c2c4530",
   "metadata": {},
   "outputs": [
    {
     "data": {
      "text/plain": [
       "<matplotlib.image.AxesImage at 0x1ec583a4550>"
      ]
     },
     "execution_count": 21,
     "metadata": {},
     "output_type": "execute_result"
    },
    {
     "data": {
      "image/png": "[encoded data removed]",
      "text/plain": [
       "<Figure size 432x288 with 1 Axes>"
      ]
     },
     "metadata": {},
     "output_type": "display_data"
    }
   ],
   "source": [
    "black=np.zeros((100,100),dtype=int)\n",
    "white=np.ones((10,10),dtype=int)\n",
    "\n",
    "black[0:10,0:10]=white  # Corner black\n",
    "black[10:20,10:20]=white #Diagonal Block\n",
    "\n",
    "square=black[0:20,0:20]\n",
    "mtplb.xticks([])  # hide x axis\n",
    "mtplb.yticks([])  # hide y axis\n",
    "chess=np.tile(square,(4,4))\n",
    "mtplb.imshow(chess,cmap='gray')"
   ]
  },
  {
   "cell_type": "code",
   "execution_count": null,
   "id": "8d1093c2",
   "metadata": {},
   "outputs": [],
   "source": [
    "import turtle\n",
    " \n",
    "def draw_box(t,x,y,size,fill_color):\n",
    "    t.penup() # no drawing!\n",
    "    t.goto(x,y) # move the pen to a different position\n",
    "    t.pendown() # resume drawing\n",
    " \n",
    "    t.fillcolor(fill_color)\n",
    "    t.begin_fill()  # Shape drawn after this will be filled with this color!\n",
    " \n",
    "    for i in range(0,4):\n",
    "        board.forward(size) # move forward\n",
    "        board.right(90) # turn pen right 90 degrees\n",
    " \n",
    "    t.end_fill() # Go ahead and fill the rectangle!\n",
    " \n",
    " \n",
    "def draw_chess_board():\n",
    "    square_color = \"black\" # first chess board square is black\n",
    "    start_x = 0 # starting x position of the chess board\n",
    "    start_y = 0 # starting y position of the chess board\n",
    "    box_size = 30 # pixel size of each square in the chess board\n",
    "    for i in range(0,8): # 8x8 chess board\n",
    "        for j in range(0,8):\n",
    "            draw_box(board,start_x+j*box_size,start_y+i*box_size,box_size,square_color)\n",
    "            square_color = 'black' if square_color == 'white' else 'white' # toggle after a column\n",
    "        square_color = 'black' if square_color == 'white' else 'white' # toggle after a row!\n",
    " \n",
    " \n",
    "board = turtle.Turtle()\n",
    "draw_chess_board()\n",
    "turtle.done()"
   ]
  },
  {
   "cell_type": "code",
   "execution_count": null,
   "id": "484591e5",
   "metadata": {},
   "outputs": [],
   "source": []
  },
  {
   "cell_type": "code",
   "execution_count": null,
   "id": "125095df",
   "metadata": {},
   "outputs": [],
   "source": []
  }
 ],
 "metadata": {
  "kernelspec": {
   "display_name": "Python 3 (ipykernel)",
   "language": "python",
   "name": "python3"
  },
  "language_info": {
   "codemirror_mode": {
    "name": "ipython",
    "version": 3
   },
   "file_extension": ".py",
   "mimetype": "text/x-python",
   "name": "python",
   "nbconvert_exporter": "python",
   "pygments_lexer": "ipython3",
   "version": "3.9.12"
  }
 },
 "nbformat": 4,
 "nbformat_minor": 5
}
